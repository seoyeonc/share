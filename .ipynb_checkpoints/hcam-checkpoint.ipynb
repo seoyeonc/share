{
 "cells": [
  {
   "cell_type": "code",
   "execution_count": 1,
   "id": "3ba279ab-278a-4ace-8c3b-83737f7c749a",
   "metadata": {},
   "outputs": [],
   "source": [
    "import torch"
   ]
  },
  {
   "cell_type": "code",
   "execution_count": 2,
   "id": "b6fc0c15-ea89-4150-bd4a-ac0f409e0cd3",
   "metadata": {},
   "outputs": [
    {
     "data": {
      "text/plain": [
       "'2.1.2'"
      ]
     },
     "execution_count": 2,
     "metadata": {},
     "output_type": "execute_result"
    }
   ],
   "source": [
    "torch.__version__"
   ]
  },
  {
   "cell_type": "code",
   "execution_count": 5,
   "id": "935e5aa4-3cb1-453c-875d-e2dc4284c07f",
   "metadata": {},
   "outputs": [],
   "source": [
    "from fastai.vision.all import *"
   ]
  },
  {
   "cell_type": "code",
   "execution_count": 6,
   "id": "f4702f6e-f584-4897-b3ff-def1bd061ba1",
   "metadata": {},
   "outputs": [
    {
     "data": {
      "text/plain": [
       "'2.7.13'"
      ]
     },
     "execution_count": 6,
     "metadata": {},
     "output_type": "execute_result"
    }
   ],
   "source": [
    "fastai.__version__"
   ]
  },
  {
   "cell_type": "code",
   "execution_count": 7,
   "id": "bfc28579-e678-4cb3-8912-75265c1a50a8",
   "metadata": {},
   "outputs": [],
   "source": [
    "import cv2"
   ]
  },
  {
   "cell_type": "code",
   "execution_count": 8,
   "id": "335609ad-2e2b-4fe5-86d4-6da51375cfec",
   "metadata": {},
   "outputs": [],
   "source": [
    " \n",
    "\n",
    "\n",
    "import numpy as np\n",
    "import os\n",
    "os.environ['CUDA_LAUNCH_BLOCKING'] = \"1\"\n",
    "os.environ[\"CUDA_VISIBLE_DEVICES\"] = \"0\"\n",
    "import cv2\n",
    "import numpy as np\n",
    "import matplotlib.pyplot as plt\n",
    "from PIL import ImageDraw\n",
    "from PIL import ImageFont\n",
    "from PIL import ImageFile\n",
    "from PIL import Image\n",
    "ImageFile.LOAD_TRUNCATED_IMAGES = True\n",
    "from torchvision.utils import save_image\n",
    "import os\n",
    "import rpy2\n",
    "import rpy2.robjects as ro \n",
    "from rpy2.robjects.vectors import FloatVector \n",
    "from rpy2.robjects.packages import importr\n",
    "def label_func(f):\n",
    "    if f[0].isupper():\n",
    "        return 'cat' \n",
    "    else: \n",
    "        return 'dog' "
   ]
  },
  {
   "cell_type": "code",
   "execution_count": 9,
   "id": "3ffe0f98-3191-4fc5-ac99-45fee20de9c2",
   "metadata": {},
   "outputs": [],
   "source": [
    "path=untar_data(URLs.PETS)/'images'"
   ]
  },
  {
   "cell_type": "code",
   "execution_count": null,
   "id": "16a09bda-8b40-44ed-bbc9-3f0c54be2c0c",
   "metadata": {},
   "outputs": [],
   "source": [
    "for i in range(7393) :\n",
    "    img = PILImage.create(get_image_files(path)[i])\n",
    "    img = img.resize([512,512], resample=None, box=None, reducing_gap=None)\n",
    "    name = str(list(path.ls())[i]).split('/')[-1]\n",
    "    fname = name.split('.')[-1]\n",
    "    img = ImageDraw.Draw(img) \n",
    "    img.save(\"original/\"+name)"
   ]
  },
  {
   "cell_type": "code",
   "execution_count": null,
   "id": "030808c8-97be-4fa5-981a-0c701a608f6b",
   "metadata": {},
   "outputs": [],
   "source": [
    "for i in range(len(path.ls())) :\n",
    "    img = PILImage.create(get_image_files(path)[i])\n",
    "    img = img.resize([512,512], resample=None, box=None, reducing_gap=None)\n",
    "    (w, h) = (img.shape[0], img.shape[1])\n",
    "    a = random.uniform(0, w*0.7)\n",
    "    b = random.uniform(0, h*0.9)\n",
    "    shape = [(a, b), (a+85, b+85)]\n",
    "    font = ImageFont.truetype(\"DejaVuSans.ttf\", round(h*0.075))\n",
    "    name = str(list(path.ls())[i]).split('/')[-1]\n",
    "    fname = name.split('.')[-1]\n",
    "    if name[0].isupper() == True :\n",
    "        img1 = ImageDraw.Draw(img)  \n",
    "        img1.rectangle(shape, fill =\"white\", outline =\"black\")\n",
    "        ImageDraw.Draw(img).text((a+5, b+15), 'Cat', (0,0,0), font=font)\n",
    "        img.save(\"random_pet_one/\"+name)\n",
    "    else: \n",
    "        img1 = ImageDraw.Draw(img)  \n",
    "        img1.rectangle(shape, fill =\"black\", outline =\"black\")\n",
    "        ImageDraw.Draw(img).text((a+5, b+15), 'Dog', (255,255,255), font=font)\n",
    "        img.save(\"random_pet_one/\"+name)"
   ]
  },
  {
   "cell_type": "code",
   "execution_count": null,
   "id": "26dfdb8c-e037-4c70-8ba0-7cff53a0d2d0",
   "metadata": {},
   "outputs": [],
   "source": [
    "path=Path('random_pet_one')   #랜덤박스넣은사진"
   ]
  },
  {
   "cell_type": "code",
   "execution_count": null,
   "id": "be99c997-f69f-4eb5-bdd3-2ed657e0df49",
   "metadata": {},
   "outputs": [],
   "source": [
    "files=get_image_files(path)"
   ]
  },
  {
   "cell_type": "code",
   "execution_count": null,
   "id": "79f1d697-af19-4a6a-bdcb-48aba22a4efb",
   "metadata": {},
   "outputs": [],
   "source": [
    "dls=ImageDataLoaders.from_name_func(path,files,label_func,item_tfms=Resize(512)) "
   ]
  },
  {
   "cell_type": "code",
   "execution_count": null,
   "id": "2d1b0bc0-25a4-492c-8c03-d9eabd2724f4",
   "metadata": {},
   "outputs": [],
   "source": [
    "lrnr=cnn_learner(dls,resnet34,metrics=error_rate)\n",
    "lrnr.fine_tune(1)"
   ]
  },
  {
   "cell_type": "code",
   "execution_count": null,
   "id": "3893f5e7-9ee3-4d8a-a92c-f1ccd4949395",
   "metadata": {},
   "outputs": [],
   "source": []
  },
  {
   "cell_type": "code",
   "execution_count": null,
   "id": "c3fb37f7-c3cd-4ea4-baf2-8f2e5d026634",
   "metadata": {},
   "outputs": [],
   "source": []
  },
  {
   "cell_type": "code",
   "execution_count": null,
   "id": "b4e672ca-74af-4ca7-8364-e0a4e6a89b59",
   "metadata": {},
   "outputs": [],
   "source": []
  },
  {
   "cell_type": "code",
   "execution_count": null,
   "id": "867292c4-7795-41b8-9ecb-93ac17eed948",
   "metadata": {},
   "outputs": [],
   "source": []
  },
  {
   "cell_type": "code",
   "execution_count": null,
   "id": "af7d4d99-21ff-4bcf-aac9-1e7b0b65b64a",
   "metadata": {},
   "outputs": [],
   "source": []
  },
  {
   "cell_type": "code",
   "execution_count": null,
   "id": "91980458-77f9-47c1-84f0-5eb0f0c4c9dd",
   "metadata": {},
   "outputs": [],
   "source": []
  }
 ],
 "metadata": {
  "kernelspec": {
   "display_name": "Python 3 (ipykernel)",
   "language": "python",
   "name": "python3"
  },
  "language_info": {
   "codemirror_mode": {
    "name": "ipython",
    "version": 3
   },
   "file_extension": ".py",
   "mimetype": "text/x-python",
   "name": "python",
   "nbconvert_exporter": "python",
   "pygments_lexer": "ipython3",
   "version": "3.8.18"
  }
 },
 "nbformat": 4,
 "nbformat_minor": 5
}
