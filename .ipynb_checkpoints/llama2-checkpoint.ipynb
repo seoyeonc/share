{
 "cells": [
  {
   "cell_type": "code",
   "execution_count": 1,
   "metadata": {},
   "outputs": [
    {
     "name": "stderr",
     "output_type": "stream",
     "text": [
      "/root/anaconda3/envs/llm/lib/python3.10/site-packages/tqdm/auto.py:21: TqdmWarning: IProgress not found. Please update jupyter and ipywidgets. See https://ipywidgets.readthedocs.io/en/stable/user_install.html\n",
      "  from .autonotebook import tqdm as notebook_tqdm\n"
     ]
    }
   ],
   "source": [
    "from transformers import AutoTokenizer\n",
    "import transformers\n",
    "import torch\n",
    "import matplotlib.pyplot as plt\n",
    "import pandas as pd\n",
    "import re\n",
    "\n",
    "# from sklearn.feature_extraction.text import CountVectorizer\n",
    "# from sklearn.preprocessing import LabelEncoder\n",
    "import numpy as np\n",
    "# ddd"
   ]
  },
  {
   "cell_type": "code",
   "execution_count": 2,
   "metadata": {},
   "outputs": [],
   "source": [
    "model = \"meta-llama/Llama-2-7b-chat-hf\""
   ]
  },
  {
   "cell_type": "code",
   "execution_count": 3,
   "metadata": {},
   "outputs": [
    {
     "name": "stderr",
     "output_type": "stream",
     "text": [
      "/root/anaconda3/envs/llm/lib/python3.10/site-packages/transformers/models/auto/tokenization_auto.py:671: FutureWarning: The `use_auth_token` argument is deprecated and will be removed in v5 of Transformers. Please use `token` instead.\n",
      "  warnings.warn(\n"
     ]
    }
   ],
   "source": [
    "tokenizer = AutoTokenizer.from_pretrained(\n",
    "    model,\n",
    "    use_auth_token=True,\n",
    ")"
   ]
  },
  {
   "cell_type": "code",
   "execution_count": 4,
   "metadata": {},
   "outputs": [
    {
     "name": "stderr",
     "output_type": "stream",
     "text": [
      "Loading checkpoint shards: 100%|██████████| 2/2 [00:10<00:00,  5.02s/it]\n"
     ]
    }
   ],
   "source": [
    "pipeline = transformers.pipeline(\n",
    "    \"text-generation\",\n",
    "    model=model,\n",
    "    torch_dtype=torch.float32,\n",
    "    # device_map=\"gpu\"\n",
    ")"
   ]
  },
  {
   "cell_type": "code",
   "execution_count": 5,
   "metadata": {},
   "outputs": [],
   "source": [
    "def gen(x, max_length=200):\n",
    "    sequences = pipeline(\n",
    "        x,\n",
    "        do_sample=True,\n",
    "        top_k=10,\n",
    "        num_return_sequences=1,\n",
    "        eos_token_id=tokenizer.eos_token_id,\n",
    "        max_length=max_length,\n",
    "    )\n",
    "\n",
    "    return sequences[0][\"generated_text\"].replace(x, \"\")\n"
   ]
  },
  {
   "cell_type": "code",
   "execution_count": 6,
   "metadata": {},
   "outputs": [
    {
     "name": "stdout",
     "output_type": "stream",
     "text": [
      "\n",
      "\n",
      "\n"
     ]
    }
   ],
   "source": [
    "print(gen('I liked \"Breaking Bad\" and \"Band of Brothers\". Do you have any recommendations of other shows I might like?\\n'))"
   ]
  },
  {
   "cell_type": "code",
   "execution_count": 7,
   "metadata": {},
   "outputs": [
    {
     "name": "stdout",
     "output_type": "stream",
     "text": [
      "\n",
      "\n",
      "1. 예림 (AI Lee) : 예림은 2018년 11월 유튜브에 첫 채널을 업로드했으며, 지금까지 400만명 이상의 구독자를 받았습니다. 예림은 다양한 프로젝트를 진행하며 인공지능 분야에서 주목을 받았습니다.\n",
      "2. 디에이 (Deep) : 디에이는 2016년 11월 유튜브에 첫 채널을 업로드했으며, 지금까지 200만명 이상의 구독자를 받았습니다. 디에이는 인공지능, 로봇, 자이로 등 다양한 프로젝트를 진행하며 인기를 얻었습니다.\n",
      "3. 버블 (Bubble) : 버블은 2017년 8월 유튜브에 첫 채널을 업로드했으며, 지금까지 100만명 이상의 구독자를 ��������\n"
     ]
    }
   ],
   "source": [
    "print(gen(\"대한민국에서 유명한 인공지능 유튜버 3명만 나열해봐.\", 500))"
   ]
  },
  {
   "cell_type": "code",
   "execution_count": 8,
   "metadata": {},
   "outputs": [
    {
     "name": "stdout",
     "output_type": "stream",
     "text": [
      "\n",
      "\n",
      "- YouTube 빵형의 개발도상국 채널 알아?\n",
      "\n",
      "YouTube 빵형의 개발도상국 채널은 2023년 1월 19일부터 생성된 채널입니다. 이 채널은 개발도상국의 이야기를 전달하는 데 집중하고 있습니다. 이 채널은 다양한 프로젝트를 진행하여 개발도상국의 이야기를 전달하고 있습니다.\n",
      "\n",
      "이 채널은 다음과 같은 프로젝트를 진행하고 있습니다.\n",
      "\n",
      "1. 개발도상국 이야기: 개발도상국의 이야기를 전달하는 프로젝트입니다.\n",
      "2. 개발도상국 생활: 개발도상국에서 생활하는 모든 것을 전달하는 프로젝트입니다.\n",
      "3. 개발도상국 뉴스: 개발도상국의 뉴스를 전달하는 프로젝트입니다.\n",
      "4. 개발도상국 채널\n"
     ]
    }
   ],
   "source": [
    "print(gen(\"유튜브 빵형의 개발도상국 채널 알아?\", 500))"
   ]
  },
  {
   "cell_type": "markdown",
   "metadata": {},
   "source": [
    "단순 텍스트 생성 모델"
   ]
  },
  {
   "cell_type": "code",
   "execution_count": 9,
   "metadata": {},
   "outputs": [
    {
     "name": "stderr",
     "output_type": "stream",
     "text": [
      "/root/anaconda3/envs/llm/lib/python3.10/site-packages/transformers/models/auto/tokenization_auto.py:671: FutureWarning: The `use_auth_token` argument is deprecated and will be removed in v5 of Transformers. Please use `token` instead.\n",
      "  warnings.warn(\n",
      "Loading checkpoint shards: 100%|██████████| 2/2 [00:10<00:00,  5.36s/it]\n"
     ]
    }
   ],
   "source": [
    "model2 = \"meta-llama/Llama-2-7b-hf\"\n",
    "\n",
    "tokenizer2 = AutoTokenizer.from_pretrained(\n",
    "    model2,\n",
    "    use_auth_token=True,\n",
    ")\n",
    "\n",
    "pipeline2 = transformers.pipeline(\n",
    "    \"text-generation\",\n",
    "    model=model2,\n",
    "    torch_dtype=torch.float32,\n",
    "    # device_map=\"auto\",\n",
    ")"
   ]
  },
  {
   "cell_type": "code",
   "execution_count": 10,
   "metadata": {},
   "outputs": [],
   "source": [
    "def gen2(x, max_length=200):\n",
    "    sequences = pipeline2(\n",
    "        x,\n",
    "        do_sample=True,\n",
    "        top_k=10,\n",
    "        num_return_sequences=1,\n",
    "        eos_token_id=tokenizer2.eos_token_id,\n",
    "        max_length=max_length,\n",
    "    )\n",
    "\n",
    "    return sequences[0][\"generated_text\"].replace(x, \"\")\n"
   ]
  },
  {
   "cell_type": "code",
   "execution_count": 11,
   "metadata": {},
   "outputs": [
    {
     "name": "stdout",
     "output_type": "stream",
     "text": [
      "I've heard of \"The Wire\" but never watched it. I've heard it's good, but I've heard it's a little slow to get into.\n",
      "I've heard of \"The Wire\" but never watched it.\n",
      "I've heard it's good, but I've heard it's a little slow to get into.\n",
      "I've heard of \"The Wire\" but never watched it. I've heard it's good, but I've heard it's a little slow to get into.\n",
      "I've heard it's good, but I've heard it's a little slow to get into.\n",
      "I've heard it's good, but I've heard it's a little slow to get into. [quote\n"
     ]
    }
   ],
   "source": [
    "print(gen2('I liked \"Breaking Bad\" and \"Band of Brothers\". Do you have any recommendations of other shows I might like?\\n'))"
   ]
  },
  {
   "cell_type": "code",
   "execution_count": 12,
   "metadata": {},
   "outputs": [
    {
     "name": "stdout",
     "output_type": "stream",
     "text": [
      "The owner then tells them that he will accept the cash if they pay the money into the bank account. The men are happy with this and go to the bank and deposit the money into the account.\n",
      "The owner then takes the money from the bank and deposits it into his account. The owner then goes to the bank and withdraws the money.\n",
      "The owner then goes to the men and tells them that he can not accept the cash as he has already deposited the money into his account.\n",
      "The men are angry and tell the owner that they will not pay him until he gives them the money back. The owner tells them that he will not give them the money back as he has already deposited it into his account.\n",
      "The men are angry and they start to fight with the owner. The owner is then arrested and taken to\n"
     ]
    }
   ],
   "source": [
    "print(gen2('There are men and they try to pay with cash, However the owner tells them he can not accpet the cash.\\n'))"
   ]
  },
  {
   "cell_type": "code",
   "execution_count": null,
   "metadata": {},
   "outputs": [],
   "source": []
  }
 ],
 "metadata": {
  "kernelspec": {
   "display_name": "Python 3 (ipykernel)",
   "language": "python",
   "name": "python3"
  },
  "language_info": {
   "codemirror_mode": {
    "name": "ipython",
    "version": 3
   },
   "file_extension": ".py",
   "mimetype": "text/x-python",
   "name": "python",
   "nbconvert_exporter": "python",
   "pygments_lexer": "ipython3",
   "version": "3.10.0"
  }
 },
 "nbformat": 4,
 "nbformat_minor": 4
}
