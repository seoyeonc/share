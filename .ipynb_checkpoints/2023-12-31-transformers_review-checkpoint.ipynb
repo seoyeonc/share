{
 "cells": [
  {
   "cell_type": "markdown",
   "id": "49f0027c-fb33-464f-82fc-bc8d8a4e2551",
   "metadata": {},
   "source": [
    "# **🤗Transformers (신경망 언어모델 라이브러리) 강좌**"
   ]
  },
  {
   "cell_type": "markdown",
   "id": "74c64ccc-630c-406c-8953-a7ac5e24873e",
   "metadata": {},
   "source": [
    "ref: https://wikidocs.net/book/8056"
   ]
  },
  {
   "cell_type": "markdown",
   "id": "69f5a706-4560-430a-bb16-ef4cdfc113c7",
   "metadata": {},
   "source": [
    "# Import"
   ]
  },
  {
   "cell_type": "code",
   "execution_count": 1,
   "id": "9fca4aae-241c-420b-abde-7e63c5388990",
   "metadata": {},
   "outputs": [
    {
     "name": "stderr",
     "output_type": "stream",
     "text": [
      "/root/anaconda3/envs/llm/lib/python3.10/site-packages/tqdm/auto.py:21: TqdmWarning: IProgress not found. Please update jupyter and ipywidgets. See https://ipywidgets.readthedocs.io/en/stable/user_install.html\n",
      "  from .autonotebook import tqdm as notebook_tqdm\n"
     ]
    }
   ],
   "source": [
    "# !pip install transformers\n",
    "import transformers"
   ]
  },
  {
   "cell_type": "markdown",
   "id": "0f71817f-f20f-4e50-a0ed-151caad61ff8",
   "metadata": {},
   "source": [
    "# 1장"
   ]
  },
  {
   "cell_type": "markdown",
   "id": "9ba87b51-3fef-452f-83b7-b5293347a886",
   "metadata": {},
   "source": [
    "## 2. 🤗Transformers가 할 수 있는 일들"
   ]
  },
  {
   "cell_type": "markdown",
   "id": "92c94bfd-17bc-480a-a5f7-31f26f41a0e7",
   "metadata": {},
   "source": [
    "**pipeline**: transformer의 가장 기본적인 개체"
   ]
  },
  {
   "cell_type": "code",
   "execution_count": 2,
   "id": "43d9e2ad-fc2f-4f9e-b0c1-e970459669b0",
   "metadata": {},
   "outputs": [],
   "source": [
    "from transformers import pipeline"
   ]
  },
  {
   "cell_type": "code",
   "execution_count": 3,
   "id": "7fef3ae8-28e1-43c5-8df1-2db1a591bc13",
   "metadata": {},
   "outputs": [
    {
     "name": "stderr",
     "output_type": "stream",
     "text": [
      "No model was supplied, defaulted to distilbert-base-uncased-finetuned-sst-2-english and revision af0f99b (https://huggingface.co/distilbert-base-uncased-finetuned-sst-2-english).\n",
      "Using a pipeline without specifying a model name and revision in production is not recommended.\n",
      "config.json: 100%|██████████| 629/629 [00:00<00:00, 4.62MB/s]\n",
      "model.safetensors: 100%|██████████| 268M/268M [00:05<00:00, 48.9MB/s] \n",
      "tokenizer_config.json: 100%|██████████| 48.0/48.0 [00:00<00:00, 341kB/s]\n",
      "vocab.txt: 100%|██████████| 232k/232k [00:00<00:00, 588kB/s]\n"
     ]
    }
   ],
   "source": [
    "classifier = pipeline(\"sentiment-analysis\")"
   ]
  },
  {
   "cell_type": "code",
   "execution_count": 4,
   "id": "a5aa2871-de89-4469-b198-09c585808099",
   "metadata": {},
   "outputs": [
    {
     "data": {
      "text/plain": [
       "[{'label': 'POSITIVE', 'score': 0.9598049521446228}]"
      ]
     },
     "execution_count": 4,
     "metadata": {},
     "output_type": "execute_result"
    }
   ],
   "source": [
    "classifier(\"I've been waiting for a HuggingFace course my whole life.\")"
   ]
  },
  {
   "cell_type": "code",
   "execution_count": 5,
   "id": "3b012f1c-d51e-4014-93c0-26731f74b949",
   "metadata": {},
   "outputs": [
    {
     "data": {
      "text/plain": [
       "[{'label': 'POSITIVE', 'score': 0.9598049521446228},\n",
       " {'label': 'NEGATIVE', 'score': 0.9994558691978455}]"
      ]
     },
     "execution_count": 5,
     "metadata": {},
     "output_type": "execute_result"
    }
   ],
   "source": [
    "classifier([\"I've been waiting for a HuggingFace course my whole life.\",\n",
    "            \"I hate this so much!\"])"
   ]
  },
  {
   "cell_type": "markdown",
   "id": "94bb6de7-80ec-4568-a740-edc0c133405d",
   "metadata": {},
   "source": [
    "사용 가능한 pipeline\n",
    "\n",
    "- `feature-extraction` (텍스트에 대한 벡터 표현 제공)\n",
    "- `fill-mask`\n",
    "- `ner` (named entity recognition, 개체명 인식)\n",
    "- `question-answering`\n",
    "- `sentiment-analysis`\n",
    "- `summarization`\n",
    "- `text-generation`\n",
    "- `translation`\n",
    "- `zero-shot-classification`"
   ]
  },
  {
   "cell_type": "markdown",
   "id": "0f37f791-5d17-4e81-84d6-ae03f14a3f0e",
   "metadata": {},
   "source": [
    "`인코더 전용 모델(Encoder-only models)`: 문장 분류(sentence classification) 및 개체명 인식(named-entity recognition)과 같이 입력에 대한 분석 및 이해(understanding)가 필요한 태스크에 적합합니다.\n",
    "\n",
    "`디코더 전용 모델(Decoder-only models)`: 텍스트 생성(text generation) 등과 같은 생성 태스크(generative tasks)에 좋습니다.\n",
    "\n",
    "`인코더-디코더 모델(Encoder-Decoder models)` 혹은 `시퀀스-투-시퀀스 모델(sequence-to-sequence model)`: 번역(translation)이나 요약(summarization)과 같이 입력이 수반되는 생성 태스크(generative tasks)에 적합합니다."
   ]
  },
  {
   "cell_type": "markdown",
   "id": "c68f116a-2255-4356-9fbc-e1e0f53c9ad5",
   "metadata": {},
   "source": [
    "`아키텍처(Architectures)`: 이 용어는 모델의 뼈대(skeleton)를 의미합니다. 모델 내에서 발생하는 각 레이어(layer)와 오퍼레이션(operation, 연산) 등을 정의합니다.\n",
    "\n",
    "`체크포인트(Checkpoints)`: 해당 아키텍처에서 로드될 가중치 값들을 나타냅니다.\n",
    "\n",
    "`모델(Model)`: 이것은 \"아키텍처(architecture)\" 또는 \"체크포인트(checkpoint)\" 보다는 덜 명확한 포괄적인 용어(umbrella term)입니다. 두 가지 모두를 의미할 수도 있습니다. 본 강좌에서는 표기의 명확성이 필요할 경우 모델이라는 용어보다는 아키텍처(architecture) 또는 체크포인트(checkpoint)를 주로 사용할 것입니다."
   ]
  },
  {
   "cell_type": "markdown",
   "id": "ecec1e06-82ed-4a35-b4bf-6a5aed2b4b41",
   "metadata": {},
   "source": [
    "- 사전 학습된 모델(pretrained model)은 미세 조정(fine-tuning)에 사용할 데이터셋과 유사한 데이터를 바탕으로 이미 학습되었습니다. 따라서, 미세 조정(fine-tuning) 과정에서, 사전 학습 과정에서 얻은 지식을 활용할 수 있습니다."
   ]
  },
  {
   "cell_type": "markdown",
   "id": "a23111d7-763b-4aa9-8f33-75457118251a",
   "metadata": {},
   "source": [
    "https://wikidocs.net/166795"
   ]
  }
 ],
 "metadata": {
  "kernelspec": {
   "display_name": "Python 3 (ipykernel)",
   "language": "python",
   "name": "python3"
  },
  "language_info": {
   "codemirror_mode": {
    "name": "ipython",
    "version": 3
   },
   "file_extension": ".py",
   "mimetype": "text/x-python",
   "name": "python",
   "nbconvert_exporter": "python",
   "pygments_lexer": "ipython3",
   "version": "3.10.0"
  }
 },
 "nbformat": 4,
 "nbformat_minor": 5
}
