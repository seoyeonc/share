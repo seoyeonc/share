{
 "cells": [
  {
   "cell_type": "code",
   "execution_count": 1,
   "metadata": {},
   "outputs": [
    {
     "name": "stderr",
     "output_type": "stream",
     "text": [
      "/root/anaconda3/envs/llm/lib/python3.10/site-packages/tqdm/auto.py:21: TqdmWarning: IProgress not found. Please update jupyter and ipywidgets. See https://ipywidgets.readthedocs.io/en/stable/user_install.html\n",
      "  from .autonotebook import tqdm as notebook_tqdm\n"
     ]
    }
   ],
   "source": [
    "from transformers import AutoTokenizer\n",
    "import transformers\n",
    "import torch\n",
    "import matplotlib.pyplot as plt\n",
    "import pandas as pd\n",
    "import re\n",
    "\n",
    "# from sklearn.feature_extraction.text import CountVectorizer\n",
    "# from sklearn.preprocessing import LabelEncoder\n",
    "import numpy as np\n",
    "# ddd"
   ]
  },
  {
   "cell_type": "code",
   "execution_count": 2,
   "metadata": {},
   "outputs": [],
   "source": [
    "model = \"meta-llama/Llama-2-7b-chat-hf\""
   ]
  },
  {
   "cell_type": "code",
   "execution_count": 3,
   "metadata": {},
   "outputs": [
    {
     "name": "stderr",
     "output_type": "stream",
     "text": [
      "/root/anaconda3/envs/llm/lib/python3.10/site-packages/transformers/models/auto/tokenization_auto.py:671: FutureWarning: The `use_auth_token` argument is deprecated and will be removed in v5 of Transformers. Please use `token` instead.\n",
      "  warnings.warn(\n"
     ]
    }
   ],
   "source": [
    "tokenizer = AutoTokenizer.from_pretrained(\n",
    "    model,\n",
    "    use_auth_token=True,\n",
    ")"
   ]
  },
  {
   "cell_type": "code",
   "execution_count": 4,
   "metadata": {},
   "outputs": [
    {
     "name": "stderr",
     "output_type": "stream",
     "text": [
      "Loading checkpoint shards: 100%|██████████| 2/2 [00:06<00:00,  3.36s/it]\n"
     ]
    }
   ],
   "source": [
    "pipeline = transformers.pipeline(\n",
    "    \"text-generation\",\n",
    "    model=model,\n",
    "    torch_dtype=torch.float32,\n",
    "    # device_map=\"gpu\"\n",
    ")"
   ]
  },
  {
   "cell_type": "code",
   "execution_count": 5,
   "metadata": {},
   "outputs": [],
   "source": [
    "def gen(x, max_length=200):\n",
    "    sequences = pipeline(\n",
    "        x,\n",
    "        do_sample=True,\n",
    "        top_k=10,\n",
    "        num_return_sequences=1,\n",
    "        eos_token_id=tokenizer.eos_token_id,\n",
    "        max_length=max_length,\n",
    "    )\n",
    "\n",
    "    return sequences[0][\"generated_text\"].replace(x, \"\")\n"
   ]
  },
  {
   "cell_type": "code",
   "execution_count": 6,
   "metadata": {},
   "outputs": [
    {
     "name": "stdout",
     "output_type": "stream",
     "text": [
      "\n",
      "\n",
      "\n",
      "\n"
     ]
    }
   ],
   "source": [
    "print(gen('I liked \"Breaking Bad\" and \"Band of Brothers\". Do you have any recommendations of other shows I might like?\\n'))"
   ]
  },
  {
   "cell_type": "code",
   "execution_count": 7,
   "metadata": {},
   "outputs": [
    {
     "name": "stdout",
     "output_type": "stream",
     "text": [
      "\n",
      "\n",
      "1. 황태거 (Rain) - 1994년 6월 23일생, 27세. 황태거(Rain)는 대한민국의 가수, 배우, 방송인, 프로듀서, 디자이너, 텔레비전 PD, 인공지능 유튜버로 활동하고 있습니다. 그의 가수 데뷔작은 2002년에 발매된 \"Let's Go to the Beach\"입니다.\n",
      "2. 임하늘 (Han) - 1994년 12월 16일생, 27세. 임하늘(Han)은 대한민국의 배우, 방송인, 텔레비전 PD, 인공지능 유튜버로 활동하고 있습니다. 그의 데뷔작은 2013년에 방송된 SBS 드라마 \"애틀랜티\"입니다.\n",
      "3. 류승란 (Seung-ran Lee) - 1995년 10월 10일생, 26세. 류승란(Seung-ran Lee)은 대한민국의 배우, 방송인, 텔레비전 PD, 인공\n"
     ]
    }
   ],
   "source": [
    "print(gen(\"대한민국에서 유명한 인공지능 유튜버 3명만 나열해봐.\", 500))"
   ]
  },
  {
   "cell_type": "code",
   "execution_count": 8,
   "metadata": {},
   "outputs": [
    {
     "name": "stdout",
     "output_type": "stream",
     "text": [
      "\n",
      "\n",
      "YouTube 빵형의 개발도상국 채널 알아?\n",
      "=====================================================\n",
      "\n",
      "YouTube 빵형의 개발도상국 채널 알아? 는 물론, 이 문서에서 설명합니다.\n",
      "\n",
      "Introduction\n",
      "------------\n",
      "\n",
      "YouTube 빵형의 개발도상국 채널 알아? 는 최근에 많은 관심을 받고 있는 태그입니다. YouTube 채널의 개발도상국 알아? 는 개발도상국에서 채널을 운영하는 방법에 대해 알아보는 것입니다.\n",
      "\n",
      "Benefits of Developing a YouTube Channel in Developing Countries\n",
      "----------------------------------------------------------------\n",
      "\n",
      "Developing a YouTube channel in developing countries can have several benefits, including:\n",
      "\n",
      "### 1. Increased Reach and Exposure\n",
      "\n",
      "YouTube has a global reach, and developing countries can leverage this to reach a wider audience. By creating content that resonates with their target audience, they can increase their visibility and exposure.\n",
      "\n",
      "### 2. Cost-Effective Marketing\n",
      "\n",
      "YouTube is a cost-effective marketing platform, especially for developing countries with limited resources. By creating high-quality content and promoting it on YouTube, businesses and organizations can reach their target audience without spending a lot of money.\n",
      "\n",
      "### 3. Improved Brand Awareness\n",
      "\n",
      "A well-managed YouTube channel can help businesses and organizations in developing countries improve their brand awareness. By consistently creating high-quality content\n"
     ]
    }
   ],
   "source": [
    "print(gen(\"유튜브 빵형의 개발도상국 채널 알아?\", 500))"
   ]
  },
  {
   "cell_type": "markdown",
   "metadata": {},
   "source": [
    "단순 텍스트 생성 모델"
   ]
  },
  {
   "cell_type": "code",
   "execution_count": 9,
   "metadata": {},
   "outputs": [
    {
     "name": "stderr",
     "output_type": "stream",
     "text": [
      "/root/anaconda3/envs/llm/lib/python3.10/site-packages/transformers/models/auto/tokenization_auto.py:671: FutureWarning: The `use_auth_token` argument is deprecated and will be removed in v5 of Transformers. Please use `token` instead.\n",
      "  warnings.warn(\n",
      "Loading checkpoint shards: 100%|██████████| 2/2 [00:06<00:00,  3.22s/it]\n"
     ]
    }
   ],
   "source": [
    "model2 = \"meta-llama/Llama-2-7b-hf\"\n",
    "\n",
    "tokenizer2 = AutoTokenizer.from_pretrained(\n",
    "    model2,\n",
    "    use_auth_token=True,\n",
    ")\n",
    "\n",
    "pipeline2 = transformers.pipeline(\n",
    "    \"text-generation\",\n",
    "    model=model2,\n",
    "    torch_dtype=torch.float32,\n",
    "    # device_map=\"auto\",\n",
    ")"
   ]
  },
  {
   "cell_type": "code",
   "execution_count": 10,
   "metadata": {},
   "outputs": [],
   "source": [
    "def gen2(x, max_length=200):\n",
    "    sequences = pipeline2(\n",
    "        x,\n",
    "        do_sample=True,\n",
    "        top_k=10,\n",
    "        num_return_sequences=1,\n",
    "        eos_token_id=tokenizer2.eos_token_id,\n",
    "        max_length=max_length,\n",
    "    )\n",
    "\n",
    "    return sequences[0][\"generated_text\"].replace(x, \"\")\n"
   ]
  },
  {
   "cell_type": "code",
   "execution_count": 11,
   "metadata": {},
   "outputs": [
    {
     "name": "stdout",
     "output_type": "stream",
     "text": [
      "I've been watching \"House of Cards\" and \"Orange is the New Black\" lately. I'm also looking forward to the new season of \"Game of Thrones\".\n",
      "\"Breaking Bad\" is the best show I've ever seen. It's a show that really makes you think about the choices we make in life.\n",
      "I've heard of \"Breaking Bad\", but I've never seen it. I'm not much of a TV watcher, so I'm not sure if it's something I'd enjoy.\n",
      "I'm not much of a TV watcher either, but I do like watching documentaries. I've heard that \"The Jinx\" is really good.\n",
      "I'm not much of a TV watcher either, but I\n"
     ]
    }
   ],
   "source": [
    "print(gen2('I liked \"Breaking Bad\" and \"Band of Brothers\". Do you have any recommendations of other shows I might like?\\n'))"
   ]
  },
  {
   "cell_type": "code",
   "execution_count": 13,
   "metadata": {},
   "outputs": [
    {
     "name": "stdout",
     "output_type": "stream",
     "text": [
      "I am not sure if this is a scam or not.\n",
      "It is a scam. They will try to get you to give them your credit card information.\n",
      "I've been getting the same call.\n",
      "I've been getting the same call. It is a scam.\n",
      "I received a call from this number. I asked them to stop calling and they did.\n",
      "I received a call from this number. I asked them to stop calling and they did. It is a scam.\n",
      "I received a call from this number. I asked them to stop calling and they did. It is a scam. They will try to get you to give them your credit card information.\n",
      "I received a call from this number. I asked them to stop calling and they did. It is a scam. They will try to get\n"
     ]
    }
   ],
   "source": [
    "print(gen2('There are men and they try to pay with cash, However the owner tells them he can not accpet the cash.\\n'))"
   ]
  },
  {
   "cell_type": "code",
   "execution_count": null,
   "metadata": {},
   "outputs": [],
   "source": []
  }
 ],
 "metadata": {
  "kernelspec": {
   "display_name": "Python 3 (ipykernel)",
   "language": "python",
   "name": "python3"
  },
  "language_info": {
   "codemirror_mode": {
    "name": "ipython",
    "version": 3
   },
   "file_extension": ".py",
   "mimetype": "text/x-python",
   "name": "python",
   "nbconvert_exporter": "python",
   "pygments_lexer": "ipython3",
   "version": "3.10.0"
  }
 },
 "nbformat": 4,
 "nbformat_minor": 4
}
